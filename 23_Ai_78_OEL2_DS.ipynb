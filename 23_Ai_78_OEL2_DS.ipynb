{
 "cells": [
  {
   "cell_type": "code",
   "execution_count": 36,
   "id": "2a1ed5ed-7916-4519-946f-1f63b1c10a96",
   "metadata": {},
   "outputs": [
    {
     "name": "stdout",
     "output_type": "stream",
     "text": [
      "7\n",
      "5\n",
      "5\n"
     ]
    }
   ],
   "source": [
    "def palindrome(a): \n",
    "    odd_chars = [] # array for middle characters\n",
    "\n",
    "    for char in a: # iterate the string input\n",
    "        if char not in odd_chars: # adds the characters in odd_chars if not present\n",
    "            odd_chars.append(char)\n",
    "        else: # removes them if they were present so we get all unique chars\n",
    "            odd_chars.remove(char)\n",
    "    \n",
    "    \n",
    "    odd = len(odd_chars)   # get length of odd chars\n",
    "    even = len(a)-odd      # find the palindrome (length of string minus the number of odd chars)\n",
    "    if odd>0 : # all palindrome muse have a middle character\n",
    "        length = even+1\n",
    "    else:\n",
    "        length= even # if single character then it is the palindrome itself\n",
    "\n",
    "    return length #print the palindrome\n",
    "\n",
    "\n",
    "print(palindrome(\"abccccdd\"))\n",
    "print(palindrome(\"civic\"))\n",
    "print(palindrome(\"aaaaa\"))"
   ]
  },
  {
   "cell_type": "code",
   "execution_count": null,
   "id": "b8fb6387-f278-40f8-8103-9909f1c20e01",
   "metadata": {},
   "outputs": [],
   "source": []
  }
 ],
 "metadata": {
  "kernelspec": {
   "display_name": "Python [conda env:base] *",
   "language": "python",
   "name": "conda-base-py"
  },
  "language_info": {
   "codemirror_mode": {
    "name": "ipython",
    "version": 3
   },
   "file_extension": ".py",
   "mimetype": "text/x-python",
   "name": "python",
   "nbconvert_exporter": "python",
   "pygments_lexer": "ipython3",
   "version": "3.12.7"
  }
 },
 "nbformat": 4,
 "nbformat_minor": 5
}
